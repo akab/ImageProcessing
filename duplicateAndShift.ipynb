{
 "cells": [
  {
   "cell_type": "code",
   "execution_count": 1,
   "metadata": {},
   "outputs": [],
   "source": [
    "import cv2\n",
    "import numpy as np\n",
    "import numpy.random\n",
    "import matplotlib.pyplot as plt\n",
    "import os\n",
    "%matplotlib inline\n",
    "from shutil import copyfile"
   ]
  },
  {
   "cell_type": "code",
   "execution_count": 2,
   "metadata": {},
   "outputs": [],
   "source": [
    "# Parameters\n",
    "n_images = 5\n",
    "max_shift_x = 1\n",
    "max_shift_y = 30"
   ]
  },
  {
   "cell_type": "code",
   "execution_count": 12,
   "metadata": {},
   "outputs": [],
   "source": [
    "# Paths\n",
    "from_f = \"C:\\\\Repos\\\\linescancs\\\\build\\\\SaveImages\\\\LIVE\\\\VIEW_2\\\\Image000.bmp\"\n",
    "base_path = \"C:\\\\Repos\\\\linescancs\\\\build\\\\SaveImages\\\\LIVE\\\\VIEW_2\""
   ]
  },
  {
   "cell_type": "markdown",
   "metadata": {},
   "source": [
    "# VIEW 1"
   ]
  },
  {
   "cell_type": "code",
   "execution_count": 4,
   "metadata": {},
   "outputs": [],
   "source": [
    "def _imshow(image):\n",
    "    plt.figure(figsize=(12,8))\n",
    "    plt.imshow(image, interpolation = 'bicubic')\n",
    "    plt.xticks([]), plt.yticks([]) \n",
    "    plt.show()"
   ]
  },
  {
   "cell_type": "code",
   "execution_count": 5,
   "metadata": {},
   "outputs": [
    {
     "name": "stdout",
     "output_type": "stream",
     "text": [
      "C:\\Repos\\linescanprinting\\build\\SaveImages\\LIVE\\VIEW_1\\Image000.bmp\n"
     ]
    },
    {
     "ename": "NameError",
     "evalue": "name 'cv' is not defined",
     "output_type": "error",
     "traceback": [
      "\u001b[1;31m---------------------------------------------------------------------------\u001b[0m",
      "\u001b[1;31mNameError\u001b[0m                                 Traceback (most recent call last)",
      "\u001b[1;32m<ipython-input-5-a1e813ca063e>\u001b[0m in \u001b[0;36m<module>\u001b[1;34m\u001b[0m\n\u001b[0;32m      1\u001b[0m \u001b[0mseed\u001b[0m \u001b[1;33m=\u001b[0m \u001b[0mbase_path\u001b[0m \u001b[1;33m+\u001b[0m \u001b[1;34m\"\\\\Image000.bmp\"\u001b[0m\u001b[1;33m\u001b[0m\u001b[1;33m\u001b[0m\u001b[0m\n\u001b[0;32m      2\u001b[0m \u001b[0mprint\u001b[0m\u001b[1;33m(\u001b[0m\u001b[0mseed\u001b[0m\u001b[1;33m)\u001b[0m\u001b[1;33m\u001b[0m\u001b[1;33m\u001b[0m\u001b[0m\n\u001b[1;32m----> 3\u001b[1;33m \u001b[0mref2\u001b[0m \u001b[1;33m=\u001b[0m \u001b[0mcv\u001b[0m\u001b[1;33m.\u001b[0m\u001b[0mimread\u001b[0m\u001b[1;33m(\u001b[0m\u001b[0mseed\u001b[0m\u001b[1;33m,\u001b[0m \u001b[0mcv\u001b[0m\u001b[1;33m.\u001b[0m\u001b[0mIMREAD_UNCHANGED\u001b[0m\u001b[1;33m)\u001b[0m\u001b[1;33m\u001b[0m\u001b[1;33m\u001b[0m\u001b[0m\n\u001b[0m\u001b[0;32m      4\u001b[0m \u001b[0mprint\u001b[0m\u001b[1;33m(\u001b[0m\u001b[0mref2\u001b[0m\u001b[1;33m.\u001b[0m\u001b[0mshape\u001b[0m\u001b[1;33m)\u001b[0m\u001b[1;33m\u001b[0m\u001b[1;33m\u001b[0m\u001b[0m\n\u001b[0;32m      5\u001b[0m \u001b[0m_imshow\u001b[0m\u001b[1;33m(\u001b[0m\u001b[0mref2\u001b[0m\u001b[1;33m)\u001b[0m\u001b[1;33m\u001b[0m\u001b[1;33m\u001b[0m\u001b[0m\n",
      "\u001b[1;31mNameError\u001b[0m: name 'cv' is not defined"
     ]
    }
   ],
   "source": [
    "seed = base_path + \"\\\\Image000.bmp\"\n",
    "print(seed)\n",
    "ref2 = cv.imread(seed, cv.IMREAD_UNCHANGED)\n",
    "print(ref2.shape)\n",
    "_imshow(ref2)"
   ]
  },
  {
   "cell_type": "markdown",
   "metadata": {},
   "source": [
    "# IMAGE GENERATION"
   ]
  },
  {
   "cell_type": "code",
   "execution_count": 13,
   "metadata": {},
   "outputs": [],
   "source": [
    "# \"{:04d}\".format(i)\n",
    "for i in range(1, n_images):\n",
    "    to_f = from_f.replace(\"Image000.bmp\", \"Image{:03d}.bmp\".format(i))\n",
    "    copyfile(from_f, to_f)"
   ]
  },
  {
   "cell_type": "markdown",
   "metadata": {},
   "source": [
    "# SHAKE IMAGES"
   ]
  },
  {
   "cell_type": "code",
   "execution_count": 25,
   "metadata": {},
   "outputs": [],
   "source": [
    "def shift_x(img, width, height, shift, negative=False):\n",
    "    T = np.float32([[1, 0, rand_x], [0, 1, 0]]) \n",
    "    if negative:\n",
    "        T = np.float32([[1, 0, -rand_x], [0, 1, 0]]) \n",
    "    return cv2.warpAffine(img, T, (width, height), None, cv2.INTER_LINEAR, cv2.BORDER_REPLICATE)\n",
    "    \n",
    "def shift_y(img, width, height, shift, negative=False):\n",
    "    T = np.float32([[1, 0, 0], [0, 1, rand_y]])\n",
    "    if negative:\n",
    "        T = np.float32([[1, 0, 0], [0, 1, -rand_y]])\n",
    "    return cv2.warpAffine(var, T, (width, height), None,cv2.INTER_LINEAR, cv2.BORDER_REPLICATE)\n",
    "\n",
    "def shift_xy(img, width, height, shift, negative=False):\n",
    "    T = np.float32([[1, 0, rand_x], [0, 1, rand_y]])\n",
    "    if negative:\n",
    "        T = np.float32([[1, 0, -rand_x], [0, 1, -rand_y]])\n",
    "    return cv2.warpAffine(var, T, (width, height), None,cv2.INTER_LINEAR, cv2.BORDER_REPLICATE)"
   ]
  },
  {
   "cell_type": "code",
   "execution_count": 26,
   "metadata": {},
   "outputs": [
    {
     "name": "stdout",
     "output_type": "stream",
     "text": [
      "C:\\Repos\\linescancs\\build\\SaveImages\\LIVE\\VIEW_1\\Image001.bmp\n",
      "C:\\Repos\\linescancs\\build\\SaveImages\\LIVE\\VIEW_1\\Image002.bmp\n",
      "C:\\Repos\\linescancs\\build\\SaveImages\\LIVE\\VIEW_1\\Image003.bmp\n",
      "C:\\Repos\\linescancs\\build\\SaveImages\\LIVE\\VIEW_1\\Image004.bmp\n"
     ]
    }
   ],
   "source": [
    "for i in range(1, n_images):\n",
    "    path = os.path.join(base_path, \"Image{:03d}.bmp\".format(i))\n",
    "    var = cv2.imread(path, cv2.IMREAD_UNCHANGED)\n",
    "    print(path)\n",
    "    height, width = var.shape[:2] \n",
    "\n",
    "    rand_x = np.random.randint(0, max_shift_x)\n",
    "    if max_shift_y != 0:\n",
    "        rand_y = np.random.randint(0, max_shift_y)\n",
    "    else:\n",
    "        rand_y = 0\n",
    "    \n",
    "    #choice = np.random.choice(['x', 'y', 'xy'], 1, True, [0.7, 0.2, 0.1])[0]\n",
    "    choice = np.random.choice(['x', 'y'], 1, True, [0.3, 0.7])[0]\n",
    "    negative = np.random.choice([True, False], 1, True, [0.5 , 0.5])[0]\n",
    "    if choice == 'x':\n",
    "        var = shift_x(var, width, height, rand_x, negative)\n",
    "    if choice == 'y':\n",
    "        var = shift_y(var, width, height, rand_y, negative)\n",
    "    if choice == 'xy':\n",
    "        var = shift_xy(var, width, height, rand_x, negative)\n",
    "\n",
    "    var = cv2.imwrite(path, var)"
   ]
  },
  {
   "cell_type": "code",
   "execution_count": null,
   "metadata": {},
   "outputs": [],
   "source": []
  }
 ],
 "metadata": {
  "kernelspec": {
   "display_name": "Python 3",
   "language": "python",
   "name": "python3"
  },
  "language_info": {
   "codemirror_mode": {
    "name": "ipython",
    "version": 3
   },
   "file_extension": ".py",
   "mimetype": "text/x-python",
   "name": "python",
   "nbconvert_exporter": "python",
   "pygments_lexer": "ipython3",
   "version": "3.6.8"
  }
 },
 "nbformat": 4,
 "nbformat_minor": 4
}
