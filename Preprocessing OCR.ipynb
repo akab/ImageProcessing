{
 "cells": [
  {
   "cell_type": "code",
   "execution_count": 1,
   "metadata": {},
   "outputs": [],
   "source": [
    "import numpy as np\n",
    "import string\n",
    "from PIL import Image, ImageFont, ImageDraw"
   ]
  },
  {
   "cell_type": "code",
   "execution_count": 84,
   "metadata": {},
   "outputs": [],
   "source": [
    "def getRandomColor():\n",
    "    rgb_available = np.random.randint(0, 200, size=3)\n",
    "    return tuple(np.random.choice(rgb_available, 3))\n",
    "\n",
    "def makeImg(text, font, file_name, size = (100, 100), offset = (16, 8), bbox=(10, 20, 15, 30)):\n",
    "    '''\n",
    "    Generate an image of text\n",
    "    text:      The text to display in the image\n",
    "    font:      The font to use\n",
    "    file_name:     The file name\n",
    "    size:      The image size\n",
    "    offset:      The offest of the text in the image\n",
    "    '''\n",
    "    color = getRandomColor()\n",
    "    img = Image.new('RGB', size, \"white\")\n",
    "    draw = ImageDraw.Draw(img)\n",
    "    draw.text(offset, text, color, font = font)\n",
    "    draw.ellipse(bbox, outline=color)\n",
    "    img.save(file_name)"
   ]
  },
  {
   "cell_type": "code",
   "execution_count": 85,
   "metadata": {},
   "outputs": [],
   "source": [
    "#The possible characters to use\n",
    "character_set = list(string.ascii_letters) + list(string.digits)\n",
    "string_sizes = list(np.random.randint(2, 10, size = 20))\n",
    "# random strings every one with size\n",
    "all_strings = [''.join(np.random.choice(character_set, size)) for size in string_sizes]\n",
    "fonts_name = [\"arial.ttf\", \"arialbd.ttf\", \"courbd.ttf\", \"cour.ttf\"]\n",
    "\n",
    "img_size = (400, 200)\n",
    "\n",
    "Y = []\n",
    "for i, Si in enumerate(all_strings):\n",
    "    font = ImageFont.truetype(np.random.choice(fonts_name, 1)[0], 16)\n",
    "    size = font.getsize(Si)\n",
    "    offset = ((img_size[0] - size[0]) // 2, (img_size[1] - size[1]) // 2)\n",
    "\n",
    "    bbox = (offset[0] - size[0], \n",
    "            offset[1] - size[0] - size[1], \n",
    "            offset[0] + size[0]* 2, \n",
    "            offset[1]+ (size[0] - size[1])*2)\n",
    "    bbox = (0 + img_size[0]/4, \n",
    "            0 + img_size[1]/8,\n",
    "            img_size[0] - img_size[0]/4, \n",
    "            img_size[1] - img_size[1]/8,\n",
    "           )\n",
    "    \n",
    "    path = \"data\\images-ocr\\ \".replace(' ', '') + str(i) + '.png'\n",
    "    makeImg(Si, font, path, img_size, offset, bbox)\n",
    "    Y.append(path + ',' + Si)\n",
    "#Write character_setV file\n",
    "with open('data\\\\train-ocr.csv', 'w') as csv_file:\n",
    "    csv_file.write('\\n'.join(Y))"
   ]
  },
  {
   "cell_type": "code",
   "execution_count": null,
   "metadata": {},
   "outputs": [],
   "source": []
  }
 ],
 "metadata": {
  "kernelspec": {
   "display_name": "Python 3",
   "language": "python",
   "name": "python3"
  },
  "language_info": {
   "codemirror_mode": {
    "name": "ipython",
    "version": 3
   },
   "file_extension": ".py",
   "mimetype": "text/x-python",
   "name": "python",
   "nbconvert_exporter": "python",
   "pygments_lexer": "ipython3",
   "version": "3.7.1"
  }
 },
 "nbformat": 4,
 "nbformat_minor": 2
}
