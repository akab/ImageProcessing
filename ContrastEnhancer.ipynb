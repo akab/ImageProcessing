{
 "cells": [
  {
   "cell_type": "code",
   "execution_count": 3,
   "metadata": {},
   "outputs": [],
   "source": [
    "import cv2\n",
    "import numpy as np\n",
    "from matplotlib import pyplot as plt\n",
    "\n",
    "%matplotlib notebook"
   ]
  },
  {
   "cell_type": "code",
   "execution_count": 4,
   "metadata": {},
   "outputs": [],
   "source": [
    "image = cv2.imread(r\"D:\\Datasets\\LinescanPrinting\\Hutamaki\\blue_05052020.bmp\")\n",
    "# convert to grayscale\n",
    "gray = cv2.cvtColor(image, cv2.COLOR_BGR2GRAY)\n",
    "# split R,G,B\n",
    "b, g, r = cv2.split(image)"
   ]
  },
  {
   "cell_type": "code",
   "execution_count": 19,
   "metadata": {},
   "outputs": [],
   "source": [
    "def plotHist(img, hist):\n",
    "    plt.hist(img.ravel(),256,[0,256])\n",
    "    plt.xlim([0,256])\n",
    "    plt.show()\n",
    "\n",
    "def GlobalEq(gray):\n",
    "    equalized = None\n",
    "    equalized = cv2.equalizeHist(gray)\n",
    "    return equalized\n",
    "\n",
    "def ClaheEq(gray):\n",
    "    equalized = None\n",
    "    clahe = cv2.createCLAHE(clipLimit=2.0, tileGridSize=(8,8))\n",
    "    equalized = clahe.apply(gray)\n",
    "    return equalized\n",
    "\n",
    "def AdjustEq(gray, tol=1, in_bound=(0,255), out_bound=(0,255)):\n",
    "    equalized = gray.copy()\n",
    "    tol = max(0, min(100,tol))\n",
    "    if tol > 0:\n",
    "        hist = cv2.calcHist([equalized],[0],None,[256],[0,256])\n",
    "        plotHist(equalized, hist)\n",
    "        \n",
    "        cum_hist = hist.copy()\n",
    "        for i in range(1, len(cum_hist)):\n",
    "            cum_hist[i] = cum_hist[i-1] + hist[i]\n",
    "        \n",
    "        total = gray.shape[0] * gray.shape[1]\n",
    "        low_bound = total * tol/100\n",
    "        upp_bound = total * (100-tol)/100\n",
    "        "
   ]
  },
  {
   "cell_type": "code",
   "execution_count": 20,
   "metadata": {},
   "outputs": [
    {
     "data": {
      "image/png": "[encoded data removed]",
      "text/plain": [
       "<Figure size 432x288 with 1 Axes>"
      ]
     },
     "metadata": {
      "needs_background": "light"
     },
     "output_type": "display_data"
    },
    {
     "data": {
      "image/png": "[encoded data removed]",
      "text/plain": [
       "<Figure size 432x288 with 1 Axes>"
      ]
     },
     "metadata": {
      "needs_background": "light"
     },
     "output_type": "display_data"
    }
   ],
   "source": [
    "geq = GlobalEq(gray)\n",
    "cv2.imwrite(\"global_eq.bmp\", geq)\n",
    "ceq = ClaheEq(gray)\n",
    "cv2.imwrite(\"clahe_eq.bmp\", ceq)\n",
    "aeq = AdjustEq(gray)"
   ]
  },
  {
   "cell_type": "code",
   "execution_count": null,
   "metadata": {},
   "outputs": [],
   "source": []
  }
 ],
 "metadata": {
  "kernelspec": {
   "display_name": "Python 3",
   "language": "python",
   "name": "python3"
  },
  "language_info": {
   "codemirror_mode": {
    "name": "ipython",
    "version": 3
   },
   "file_extension": ".py",
   "mimetype": "text/x-python",
   "name": "python",
   "nbconvert_exporter": "python",
   "pygments_lexer": "ipython3",
   "version": "3.7.3"
  }
 },
 "nbformat": 4,
 "nbformat_minor": 2
}
